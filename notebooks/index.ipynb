{
 "cells": [
  {
   "cell_type": "markdown",
   "id": "064f7fdf",
   "metadata": {},
   "source": [
    "## I. Problem Statement\n",
    "Can we predict whether a patient is diabetic based on their medical records?"
   ]
  },
  {
   "cell_type": "markdown",
   "id": "3c6f8e8f",
   "metadata": {},
   "source": [
    "### PART 2: PYTHON ANALYTICS TASKS "
   ]
  },
  {
   "cell_type": "markdown",
   "id": "53a50e7c",
   "metadata": {},
   "source": [
    "1. Clean the Dataset"
   ]
  },
  {
   "cell_type": "markdown",
   "id": "09ce66f4",
   "metadata": {},
   "source": [
    "import all Libraries"
   ]
  }
 ],
 "metadata": {
  "language_info": {
   "name": "python"
  }
 },
 "nbformat": 4,
 "nbformat_minor": 5
}
